{
 "cells": [
  {
   "cell_type": "code",
   "execution_count": 1,
   "metadata": {
    "collapsed": true
   },
   "outputs": [],
   "source": [
    "import os\n"
   ]
  },
  {
   "cell_type": "code",
   "execution_count": 2,
   "metadata": {},
   "outputs": [
    {
     "data": {
      "text/plain": [
       "['System Volume Information', '.Spotlight-V100', '.fseventsd', 'FRIENDS']"
      ]
     },
     "execution_count": 2,
     "metadata": {},
     "output_type": "execute_result"
    }
   ],
   "source": [
    "os.listdir(\"D:/\")"
   ]
  },
  {
   "cell_type": "code",
   "execution_count": 3,
   "metadata": {
    "collapsed": true
   },
   "outputs": [],
   "source": [
    "folder = r\"D:\\Friends\""
   ]
  },
  {
   "cell_type": "code",
   "execution_count": 4,
   "metadata": {
    "collapsed": true
   },
   "outputs": [],
   "source": [
    "targetFolder = r\"D:\\Friends\\audio\""
   ]
  },
  {
   "cell_type": "code",
   "execution_count": 5,
   "metadata": {
    "collapsed": true
   },
   "outputs": [],
   "source": [
    "from ffmpy import FFmpeg"
   ]
  },
  {
   "cell_type": "code",
   "execution_count": 7,
   "metadata": {
    "collapsed": true
   },
   "outputs": [],
   "source": [
    "import re"
   ]
  },
  {
   "cell_type": "code",
   "execution_count": 8,
   "metadata": {
    "collapsed": true
   },
   "outputs": [],
   "source": [
    "namePattern = re.compile(\"[0-9]{2}\")"
   ]
  },
  {
   "cell_type": "code",
   "execution_count": null,
   "metadata": {},
   "outputs": [
    {
     "name": "stdout",
     "output_type": "stream",
     "text": [
      "D:\\Friends\\Friends - S04E08 - The One With Chandler In A Box.mp4\n",
      "D:\\Friends\\Friends - S04E09 - The One Where They're Going To Party!.mp4\n",
      "D:\\Friends\\Friends - S04E10 - The One With The Girl From Poughkeepsie.mp4\n",
      "D:\\Friends\\Friends - S04E11 - The One With Phoebe's Uterus.mp4\n",
      "D:\\Friends\\Friends - S04E12 - The One With The Embryos.mp4\n",
      "D:\\Friends\\Friends - S04E13 - The One With Rachel's Crush.mp4\n",
      "D:\\Friends\\Friends - S04E14 - The One With Joey's Dirty Day.mp4\n",
      "D:\\Friends\\Friends - S04E15 - The One With All The Rugby.mp4\n",
      "D:\\Friends\\Friends - S04E16 - The One With The Fake Party.mp4\n",
      "D:\\Friends\\Friends - S04E17 - The One With The Free Porno.mp4\n",
      "D:\\Friends\\Friends - S04E18 - The One With Rachel's New Dress.mp4\n",
      "D:\\Friends\\Friends - S04E19 - The One With All The Haste.mp4\n",
      "D:\\Friends\\Friends - S04E20 - The One With The Wedding Dresses.mp4\n",
      "D:\\Friends\\Friends - S04E21 - The One With The Invitations.mp4\n",
      "D:\\Friends\\Friends - S04E22 - The One With The Worst Best Man Ever.mp4\n",
      "D:\\Friends\\Friends - S04E23 - S04E24 - The One With Ross's Wedding.mp4\n",
      "D:\\Friends\\Friends - S05E01 - The One After Ross Says Rachel.mp4\n",
      "D:\\Friends\\Friends - S05E02 - The One With All The Kissing.mp4\n",
      "D:\\Friends\\Friends - S05E03 - The One Hundredth.mp4\n",
      "D:\\Friends\\Friends - S05E04 - The One Where Phoebe Hates PBS.mp4\n",
      "D:\\Friends\\Friends - S05E05 - The One With The Kips.mp4\n"
     ]
    }
   ],
   "source": [
    "for root, dirs, filenames in os.walk(folder):\n",
    "    for filename in filenames:\n",
    "\n",
    "        filename = os.path.join(root, filename) \n",
    "        # Get the absolute path to the file.\n",
    "        numList = namePattern.findall(filename)\n",
    "        outputFilename = numList[0]+numList[1]+'.wav'\n",
    "        \n",
    "        ff = FFmpeg(inputs={filename:None},outputs ={os.path.join(root, outputFilename):None})\n",
    "        ff.run()\n",
    "        print (filename)\n",
    "        #os.rename(filename, filename.replace(old,new)) # Rename the file"
   ]
  },
  {
   "cell_type": "code",
   "execution_count": null,
   "metadata": {
    "collapsed": true
   },
   "outputs": [],
   "source": []
  }
 ],
 "metadata": {
  "kernelspec": {
   "display_name": "Python 3",
   "language": "python",
   "name": "python3"
  },
  "language_info": {
   "codemirror_mode": {
    "name": "ipython",
    "version": 3
   },
   "file_extension": ".py",
   "mimetype": "text/x-python",
   "name": "python",
   "nbconvert_exporter": "python",
   "pygments_lexer": "ipython3",
   "version": "3.5.3"
  }
 },
 "nbformat": 4,
 "nbformat_minor": 2
}
